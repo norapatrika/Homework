{
  "nbformat": 4,
  "nbformat_minor": 0,
  "metadata": {
    "colab": {
      "name": "Homework 8_Patrikalaki_passenger_traffic.ipynb",
      "provenance": [],
      "collapsed_sections": []
    },
    "kernelspec": {
      "name": "python3",
      "display_name": "Python 3"
    }
  },
  "cells": [
    {
      "cell_type": "code",
      "metadata": {
        "id": "TOmz0hwo5f1b",
        "colab_type": "code",
        "outputId": "d226bdaf-452a-48d9-a36e-8e979fc2400b",
        "colab": {
          "base_uri": "https://localhost:8080/",
          "height": 235
        }
      },
      "source": [
        "pip install tabula-py"
      ],
      "execution_count": 1,
      "outputs": [
        {
          "output_type": "stream",
          "text": [
            "Collecting tabula-py\n",
            "\u001b[?25l  Downloading https://files.pythonhosted.org/packages/8d/ed/20655a47a603430272c995d908d0dd96f93c2aa8973c8a55a66c8f3b8dfe/tabula_py-2.1.1-py3-none-any.whl (10.4MB)\n",
            "\u001b[K     |████████████████████████████████| 10.4MB 2.2MB/s \n",
            "\u001b[?25hCollecting distro\n",
            "  Downloading https://files.pythonhosted.org/packages/25/b7/b3c4270a11414cb22c6352ebc7a83aaa3712043be29daa05018fd5a5c956/distro-1.5.0-py2.py3-none-any.whl\n",
            "Requirement already satisfied: pandas>=0.25.3 in /usr/local/lib/python3.6/dist-packages (from tabula-py) (1.0.4)\n",
            "Requirement already satisfied: numpy in /usr/local/lib/python3.6/dist-packages (from tabula-py) (1.18.4)\n",
            "Requirement already satisfied: pytz>=2017.2 in /usr/local/lib/python3.6/dist-packages (from pandas>=0.25.3->tabula-py) (2018.9)\n",
            "Requirement already satisfied: python-dateutil>=2.6.1 in /usr/local/lib/python3.6/dist-packages (from pandas>=0.25.3->tabula-py) (2.8.1)\n",
            "Requirement already satisfied: six>=1.5 in /usr/local/lib/python3.6/dist-packages (from python-dateutil>=2.6.1->pandas>=0.25.3->tabula-py) (1.12.0)\n",
            "Installing collected packages: distro, tabula-py\n",
            "Successfully installed distro-1.5.0 tabula-py-2.1.1\n"
          ],
          "name": "stdout"
        }
      ]
    },
    {
      "cell_type": "code",
      "metadata": {
        "id": "iuBVjAUM6LA7",
        "colab_type": "code",
        "colab": {}
      },
      "source": [
        "from tabula import read_pdf"
      ],
      "execution_count": 0,
      "outputs": []
    },
    {
      "cell_type": "code",
      "metadata": {
        "id": "a7yLdhol6CEV",
        "colab_type": "code",
        "colab": {}
      },
      "source": [
        "import tabula\n",
        "import pandas as pd\n",
        "import numpy as np\n",
        "import matplotlib.pyplot as plt\n",
        "%matplotlib inline"
      ],
      "execution_count": 0,
      "outputs": []
    },
    {
      "cell_type": "code",
      "metadata": {
        "id": "TTYhQ2In9MIL",
        "colab_type": "code",
        "outputId": "75722275-0911-4a4e-d5db-8f5fa3c7bbba",
        "colab": {
          "base_uri": "https://localhost:8080/",
          "height": 128
        }
      },
      "source": [
        "from google.colab import drive\n",
        "drive.mount('/gdrive')"
      ],
      "execution_count": 4,
      "outputs": [
        {
          "output_type": "stream",
          "text": [
            "Go to this URL in a browser: https://accounts.google.com/o/oauth2/auth?client_id=947318989803-6bn6qk8qdgf4n4g3pfee6491hc0brc4i.apps.googleusercontent.com&redirect_uri=urn%3aietf%3awg%3aoauth%3a2.0%3aoob&response_type=code&scope=email%20https%3a%2f%2fwww.googleapis.com%2fauth%2fdocs.test%20https%3a%2f%2fwww.googleapis.com%2fauth%2fdrive%20https%3a%2f%2fwww.googleapis.com%2fauth%2fdrive.photos.readonly%20https%3a%2f%2fwww.googleapis.com%2fauth%2fpeopleapi.readonly\n",
            "\n",
            "Enter your authorization code:\n",
            "··········\n",
            "Mounted at /gdrive\n"
          ],
          "name": "stdout"
        }
      ]
    },
    {
      "cell_type": "code",
      "metadata": {
        "id": "AvMySSy_90iq",
        "colab_type": "code",
        "colab": {}
      },
      "source": [
        "data = read_pdf(\"/gdrive/My Drive/pax-traffic-gr-2019.pdf\", pages='all')"
      ],
      "execution_count": 0,
      "outputs": []
    },
    {
      "cell_type": "code",
      "metadata": {
        "id": "TN63tYxX6Swt",
        "colab_type": "code",
        "outputId": "caacc883-3205-49bd-f029-174f88b13556",
        "colab": {
          "base_uri": "https://localhost:8080/",
          "height": 326
        }
      },
      "source": [
        "data"
      ],
      "execution_count": 6,
      "outputs": [
        {
          "output_type": "execute_result",
          "data": {
            "text/plain": [
              "[   ΕΠΙΒΑΤΙΚΗ\\rΚΙΝΗΣΗ Κίνηση Εσωτερικού  ...  Unnamed: 4    Unnamed: 5\n",
              " 0                NaN              2019  ...        2018  %2019/\\r2018\n",
              " 1         Ιανουάριος           449.834  ...   1.284.404          8,4%\n",
              " 2        Φεβρουάριος           443.228  ...   1.192.905         11,3%\n",
              " 3            Μάρτιος           516.796  ...   1.518.155          8,9%\n",
              " 4           Απρίλιος           573.227  ...   1.863.047          6,6%\n",
              " 5              Μάιος           700.752  ...   2.161.379          5,7%\n",
              " 6            Ιούνιος           795.188  ...   2.429.560          7,6%\n",
              " 7            Ιούλιος           915.648  ...   2.853.201          4,5%\n",
              " 8          Αύγουστος           915.133  ...   2.889.163          5,2%\n",
              " 9        Σεπτέμβριος           810.796  ...   2.557.759          5,1%\n",
              " 10         Οκτώβριος           669.131  ...   2.207.142          4,3%\n",
              " 11         Νοέμβριος           496.990  ...   1.623.582          2,7%\n",
              " 12        Δεκέμβριος           464.291  ...   1.555.137          5,3%\n",
              " 13            Σύνολο         7.751.014  ...  24.135.434          6,0%\n",
              " \n",
              " [14 rows x 10 columns]]"
            ]
          },
          "metadata": {
            "tags": []
          },
          "execution_count": 6
        }
      ]
    },
    {
      "cell_type": "code",
      "metadata": {
        "id": "oFmxok8bY2Vk",
        "colab_type": "code",
        "colab": {}
      },
      "source": [
        " #Ένωση διαφορετικών dataframes\n",
        " df = pd.concat(data)"
      ],
      "execution_count": 0,
      "outputs": []
    },
    {
      "cell_type": "code",
      "metadata": {
        "id": "i8U3XqT7Y4jq",
        "colab_type": "code",
        "outputId": "22e41044-fc7e-4e4e-b762-b58333f7d823",
        "colab": {
          "base_uri": "https://localhost:8080/",
          "height": 326
        }
      },
      "source": [
        "print(df)"
      ],
      "execution_count": 8,
      "outputs": [
        {
          "output_type": "stream",
          "text": [
            "   ΕΠΙΒΑΤΙΚΗ\\rΚΙΝΗΣΗ Κίνηση Εσωτερικού  ...  Unnamed: 4    Unnamed: 5\n",
            "0                NaN              2019  ...        2018  %2019/\\r2018\n",
            "1         Ιανουάριος           449.834  ...   1.284.404          8,4%\n",
            "2        Φεβρουάριος           443.228  ...   1.192.905         11,3%\n",
            "3            Μάρτιος           516.796  ...   1.518.155          8,9%\n",
            "4           Απρίλιος           573.227  ...   1.863.047          6,6%\n",
            "5              Μάιος           700.752  ...   2.161.379          5,7%\n",
            "6            Ιούνιος           795.188  ...   2.429.560          7,6%\n",
            "7            Ιούλιος           915.648  ...   2.853.201          4,5%\n",
            "8          Αύγουστος           915.133  ...   2.889.163          5,2%\n",
            "9        Σεπτέμβριος           810.796  ...   2.557.759          5,1%\n",
            "10         Οκτώβριος           669.131  ...   2.207.142          4,3%\n",
            "11         Νοέμβριος           496.990  ...   1.623.582          2,7%\n",
            "12        Δεκέμβριος           464.291  ...   1.555.137          5,3%\n",
            "13            Σύνολο         7.751.014  ...  24.135.434          6,0%\n",
            "\n",
            "[14 rows x 10 columns]\n"
          ],
          "name": "stdout"
        }
      ]
    },
    {
      "cell_type": "code",
      "metadata": {
        "id": "n1vDeqwwZE7y",
        "colab_type": "code",
        "outputId": "89ace1ed-54c2-4a89-b273-6c06f48b2e5f",
        "colab": {
          "base_uri": "https://localhost:8080/",
          "height": 217
        }
      },
      "source": [
        "df.isnull().sum()"
      ],
      "execution_count": 9,
      "outputs": [
        {
          "output_type": "execute_result",
          "data": {
            "text/plain": [
              "ΕΠΙΒΑΤΙΚΗ\\rΚΙΝΗΣΗ    1\n",
              "Κίνηση Εσωτερικού    0\n",
              "Κίνηση Εξωτερικού    0\n",
              "Συνολική Κίνηση      0\n",
              "Unnamed: 0           0\n",
              "Unnamed: 1           0\n",
              "Unnamed: 2           0\n",
              "Unnamed: 3           0\n",
              "Unnamed: 4           0\n",
              "Unnamed: 5           0\n",
              "dtype: int64"
            ]
          },
          "metadata": {
            "tags": []
          },
          "execution_count": 9
        }
      ]
    },
    {
      "cell_type": "code",
      "metadata": {
        "id": "6lb04yG-bkS0",
        "colab_type": "code",
        "colab": {}
      },
      "source": [
        "missing_values = [\"-\", 999, 9999, \"NA\"]"
      ],
      "execution_count": 0,
      "outputs": []
    },
    {
      "cell_type": "code",
      "metadata": {
        "id": "SMSyiJQZbrIz",
        "colab_type": "code",
        "colab": {}
      },
      "source": [
        "df.replace([\"-\", 999, 9999, \"NA\"], np.nan, inplace= True)"
      ],
      "execution_count": 0,
      "outputs": []
    },
    {
      "cell_type": "code",
      "metadata": {
        "id": "4q2VtFuqbs_E",
        "colab_type": "code",
        "outputId": "52badf63-f665-4871-d254-41b983f0dc0d",
        "colab": {
          "base_uri": "https://localhost:8080/",
          "height": 438
        }
      },
      "source": [
        "df.dropna()"
      ],
      "execution_count": 13,
      "outputs": [
        {
          "output_type": "execute_result",
          "data": {
            "text/html": [
              "<div>\n",
              "<style scoped>\n",
              "    .dataframe tbody tr th:only-of-type {\n",
              "        vertical-align: middle;\n",
              "    }\n",
              "\n",
              "    .dataframe tbody tr th {\n",
              "        vertical-align: top;\n",
              "    }\n",
              "\n",
              "    .dataframe thead th {\n",
              "        text-align: right;\n",
              "    }\n",
              "</style>\n",
              "<table border=\"1\" class=\"dataframe\">\n",
              "  <thead>\n",
              "    <tr style=\"text-align: right;\">\n",
              "      <th></th>\n",
              "      <th>ΕΠΙΒΑΤΙΚΗ\\rΚΙΝΗΣΗ</th>\n",
              "      <th>Κίνηση Εσωτερικού</th>\n",
              "      <th>Κίνηση Εξωτερικού</th>\n",
              "      <th>Συνολική Κίνηση</th>\n",
              "      <th>Unnamed: 0</th>\n",
              "      <th>Unnamed: 1</th>\n",
              "      <th>Unnamed: 2</th>\n",
              "      <th>Unnamed: 3</th>\n",
              "      <th>Unnamed: 4</th>\n",
              "      <th>Unnamed: 5</th>\n",
              "    </tr>\n",
              "  </thead>\n",
              "  <tbody>\n",
              "    <tr>\n",
              "      <th>1</th>\n",
              "      <td>Ιανουάριος</td>\n",
              "      <td>449.834</td>\n",
              "      <td>416.827</td>\n",
              "      <td>7,9%</td>\n",
              "      <td>943.051</td>\n",
              "      <td>867.577</td>\n",
              "      <td>8,7%</td>\n",
              "      <td>1.392.885</td>\n",
              "      <td>1.284.404</td>\n",
              "      <td>8,4%</td>\n",
              "    </tr>\n",
              "    <tr>\n",
              "      <th>2</th>\n",
              "      <td>Φεβρουάριος</td>\n",
              "      <td>443.228</td>\n",
              "      <td>400.245</td>\n",
              "      <td>10,7%</td>\n",
              "      <td>884.560</td>\n",
              "      <td>792.660</td>\n",
              "      <td>11,6%</td>\n",
              "      <td>1.327.788</td>\n",
              "      <td>1.192.905</td>\n",
              "      <td>11,3%</td>\n",
              "    </tr>\n",
              "    <tr>\n",
              "      <th>3</th>\n",
              "      <td>Μάρτιος</td>\n",
              "      <td>516.796</td>\n",
              "      <td>478.952</td>\n",
              "      <td>7,9%</td>\n",
              "      <td>1.135.798</td>\n",
              "      <td>1.039.203</td>\n",
              "      <td>9,3%</td>\n",
              "      <td>1.652.594</td>\n",
              "      <td>1.518.155</td>\n",
              "      <td>8,9%</td>\n",
              "    </tr>\n",
              "    <tr>\n",
              "      <th>4</th>\n",
              "      <td>Απρίλιος</td>\n",
              "      <td>573.227</td>\n",
              "      <td>570.381</td>\n",
              "      <td>0,5%</td>\n",
              "      <td>1.413.529</td>\n",
              "      <td>1.292.666</td>\n",
              "      <td>9,3%</td>\n",
              "      <td>1.986.756</td>\n",
              "      <td>1.863.047</td>\n",
              "      <td>6,6%</td>\n",
              "    </tr>\n",
              "    <tr>\n",
              "      <th>5</th>\n",
              "      <td>Μάιος</td>\n",
              "      <td>700.752</td>\n",
              "      <td>700.139</td>\n",
              "      <td>0,1%</td>\n",
              "      <td>1.584.454</td>\n",
              "      <td>1.461.240</td>\n",
              "      <td>8,4%</td>\n",
              "      <td>2.285.206</td>\n",
              "      <td>2.161.379</td>\n",
              "      <td>5,7%</td>\n",
              "    </tr>\n",
              "    <tr>\n",
              "      <th>6</th>\n",
              "      <td>Ιούνιος</td>\n",
              "      <td>795.188</td>\n",
              "      <td>779.857</td>\n",
              "      <td>2,0%</td>\n",
              "      <td>1.817.906</td>\n",
              "      <td>1.649.703</td>\n",
              "      <td>10,2%</td>\n",
              "      <td>2.613.094</td>\n",
              "      <td>2.429.560</td>\n",
              "      <td>7,6%</td>\n",
              "    </tr>\n",
              "    <tr>\n",
              "      <th>7</th>\n",
              "      <td>Ιούλιος</td>\n",
              "      <td>915.648</td>\n",
              "      <td>921.691</td>\n",
              "      <td>-0,7%</td>\n",
              "      <td>2.065.533</td>\n",
              "      <td>1.931.510</td>\n",
              "      <td>6,9%</td>\n",
              "      <td>2.981.181</td>\n",
              "      <td>2.853.201</td>\n",
              "      <td>4,5%</td>\n",
              "    </tr>\n",
              "    <tr>\n",
              "      <th>8</th>\n",
              "      <td>Αύγουστος</td>\n",
              "      <td>915.133</td>\n",
              "      <td>925.164</td>\n",
              "      <td>-1,1%</td>\n",
              "      <td>2.124.732</td>\n",
              "      <td>1.963.999</td>\n",
              "      <td>8,2%</td>\n",
              "      <td>3.039.865</td>\n",
              "      <td>2.889.163</td>\n",
              "      <td>5,2%</td>\n",
              "    </tr>\n",
              "    <tr>\n",
              "      <th>9</th>\n",
              "      <td>Σεπτέμβριος</td>\n",
              "      <td>810.796</td>\n",
              "      <td>828.412</td>\n",
              "      <td>-2,1%</td>\n",
              "      <td>1.878.605</td>\n",
              "      <td>1.729.347</td>\n",
              "      <td>8,6%</td>\n",
              "      <td>2.689.401</td>\n",
              "      <td>2.557.759</td>\n",
              "      <td>5,1%</td>\n",
              "    </tr>\n",
              "    <tr>\n",
              "      <th>10</th>\n",
              "      <td>Οκτώβριος</td>\n",
              "      <td>669.131</td>\n",
              "      <td>684.924</td>\n",
              "      <td>-2,3%</td>\n",
              "      <td>1.632.425</td>\n",
              "      <td>1.522.218</td>\n",
              "      <td>7,2%</td>\n",
              "      <td>2.301.556</td>\n",
              "      <td>2.207.142</td>\n",
              "      <td>4,3%</td>\n",
              "    </tr>\n",
              "    <tr>\n",
              "      <th>11</th>\n",
              "      <td>Νοέμβριος</td>\n",
              "      <td>496.990</td>\n",
              "      <td>526.343</td>\n",
              "      <td>-5,6%</td>\n",
              "      <td>1.169.664</td>\n",
              "      <td>1.097.239</td>\n",
              "      <td>6,6%</td>\n",
              "      <td>1.666.654</td>\n",
              "      <td>1.623.582</td>\n",
              "      <td>2,7%</td>\n",
              "    </tr>\n",
              "    <tr>\n",
              "      <th>12</th>\n",
              "      <td>Δεκέμβριος</td>\n",
              "      <td>464.291</td>\n",
              "      <td>497.605</td>\n",
              "      <td>-6,7%</td>\n",
              "      <td>1.172.722</td>\n",
              "      <td>1.057.532</td>\n",
              "      <td>10,9%</td>\n",
              "      <td>1.637.013</td>\n",
              "      <td>1.555.137</td>\n",
              "      <td>5,3%</td>\n",
              "    </tr>\n",
              "    <tr>\n",
              "      <th>13</th>\n",
              "      <td>Σύνολο</td>\n",
              "      <td>7.751.014</td>\n",
              "      <td>7.730.540</td>\n",
              "      <td>0,3%</td>\n",
              "      <td>17.822.979</td>\n",
              "      <td>16.404.894</td>\n",
              "      <td>8,6%</td>\n",
              "      <td>25.573.993</td>\n",
              "      <td>24.135.434</td>\n",
              "      <td>6,0%</td>\n",
              "    </tr>\n",
              "  </tbody>\n",
              "</table>\n",
              "</div>"
            ],
            "text/plain": [
              "   ΕΠΙΒΑΤΙΚΗ\\rΚΙΝΗΣΗ Κίνηση Εσωτερικού  ...  Unnamed: 4 Unnamed: 5\n",
              "1         Ιανουάριος           449.834  ...   1.284.404       8,4%\n",
              "2        Φεβρουάριος           443.228  ...   1.192.905      11,3%\n",
              "3            Μάρτιος           516.796  ...   1.518.155       8,9%\n",
              "4           Απρίλιος           573.227  ...   1.863.047       6,6%\n",
              "5              Μάιος           700.752  ...   2.161.379       5,7%\n",
              "6            Ιούνιος           795.188  ...   2.429.560       7,6%\n",
              "7            Ιούλιος           915.648  ...   2.853.201       4,5%\n",
              "8          Αύγουστος           915.133  ...   2.889.163       5,2%\n",
              "9        Σεπτέμβριος           810.796  ...   2.557.759       5,1%\n",
              "10         Οκτώβριος           669.131  ...   2.207.142       4,3%\n",
              "11         Νοέμβριος           496.990  ...   1.623.582       2,7%\n",
              "12        Δεκέμβριος           464.291  ...   1.555.137       5,3%\n",
              "13            Σύνολο         7.751.014  ...  24.135.434       6,0%\n",
              "\n",
              "[13 rows x 10 columns]"
            ]
          },
          "metadata": {
            "tags": []
          },
          "execution_count": 13
        }
      ]
    },
    {
      "cell_type": "code",
      "metadata": {
        "id": "F161eKAcnzBL",
        "colab_type": "code",
        "colab": {}
      },
      "source": [
        "df.rename(columns={'ΕΠΙΒΑΤΙΚΗ\\rΚΙΝΗΣΗ' : 'Μήνες', 'Κίνηση Εσωτερικού': 'Κίνηση Εσωτερικού 2019', 'Unnamed: 0': 'Κίνηση Εξωτερικού 2019', 'Κίνηση Εξωτερικού' : 'Κίνηση Εσωτερικού 2018', 'Unnamed: 1' : 'Κίνηση Εξωτερικού 2018'}, inplace=True)"
      ],
      "execution_count": 0,
      "outputs": []
    },
    {
      "cell_type": "code",
      "metadata": {
        "id": "yni1BHqZJP_s",
        "colab_type": "code",
        "colab": {}
      },
      "source": [
        "df = df.drop(df.index[0])"
      ],
      "execution_count": 0,
      "outputs": []
    },
    {
      "cell_type": "code",
      "metadata": {
        "id": "1KegFH0SHt6i",
        "colab_type": "code",
        "outputId": "a5e82525-cd58-4421-d814-e98d4637f5b1",
        "colab": {
          "base_uri": "https://localhost:8080/",
          "height": 198
        }
      },
      "source": [
        "df.head()"
      ],
      "execution_count": 16,
      "outputs": [
        {
          "output_type": "execute_result",
          "data": {
            "text/html": [
              "<div>\n",
              "<style scoped>\n",
              "    .dataframe tbody tr th:only-of-type {\n",
              "        vertical-align: middle;\n",
              "    }\n",
              "\n",
              "    .dataframe tbody tr th {\n",
              "        vertical-align: top;\n",
              "    }\n",
              "\n",
              "    .dataframe thead th {\n",
              "        text-align: right;\n",
              "    }\n",
              "</style>\n",
              "<table border=\"1\" class=\"dataframe\">\n",
              "  <thead>\n",
              "    <tr style=\"text-align: right;\">\n",
              "      <th></th>\n",
              "      <th>Μήνες</th>\n",
              "      <th>Κίνηση Εσωτερικού 2019</th>\n",
              "      <th>Κίνηση Εσωτερικού 2018</th>\n",
              "      <th>Συνολική Κίνηση</th>\n",
              "      <th>Κίνηση Εξωτερικού 2019</th>\n",
              "      <th>Κίνηση Εξωτερικού 2018</th>\n",
              "      <th>Unnamed: 2</th>\n",
              "      <th>Unnamed: 3</th>\n",
              "      <th>Unnamed: 4</th>\n",
              "      <th>Unnamed: 5</th>\n",
              "    </tr>\n",
              "  </thead>\n",
              "  <tbody>\n",
              "    <tr>\n",
              "      <th>1</th>\n",
              "      <td>Ιανουάριος</td>\n",
              "      <td>449.834</td>\n",
              "      <td>416.827</td>\n",
              "      <td>7,9%</td>\n",
              "      <td>943.051</td>\n",
              "      <td>867.577</td>\n",
              "      <td>8,7%</td>\n",
              "      <td>1.392.885</td>\n",
              "      <td>1.284.404</td>\n",
              "      <td>8,4%</td>\n",
              "    </tr>\n",
              "    <tr>\n",
              "      <th>2</th>\n",
              "      <td>Φεβρουάριος</td>\n",
              "      <td>443.228</td>\n",
              "      <td>400.245</td>\n",
              "      <td>10,7%</td>\n",
              "      <td>884.560</td>\n",
              "      <td>792.660</td>\n",
              "      <td>11,6%</td>\n",
              "      <td>1.327.788</td>\n",
              "      <td>1.192.905</td>\n",
              "      <td>11,3%</td>\n",
              "    </tr>\n",
              "    <tr>\n",
              "      <th>3</th>\n",
              "      <td>Μάρτιος</td>\n",
              "      <td>516.796</td>\n",
              "      <td>478.952</td>\n",
              "      <td>7,9%</td>\n",
              "      <td>1.135.798</td>\n",
              "      <td>1.039.203</td>\n",
              "      <td>9,3%</td>\n",
              "      <td>1.652.594</td>\n",
              "      <td>1.518.155</td>\n",
              "      <td>8,9%</td>\n",
              "    </tr>\n",
              "    <tr>\n",
              "      <th>4</th>\n",
              "      <td>Απρίλιος</td>\n",
              "      <td>573.227</td>\n",
              "      <td>570.381</td>\n",
              "      <td>0,5%</td>\n",
              "      <td>1.413.529</td>\n",
              "      <td>1.292.666</td>\n",
              "      <td>9,3%</td>\n",
              "      <td>1.986.756</td>\n",
              "      <td>1.863.047</td>\n",
              "      <td>6,6%</td>\n",
              "    </tr>\n",
              "    <tr>\n",
              "      <th>5</th>\n",
              "      <td>Μάιος</td>\n",
              "      <td>700.752</td>\n",
              "      <td>700.139</td>\n",
              "      <td>0,1%</td>\n",
              "      <td>1.584.454</td>\n",
              "      <td>1.461.240</td>\n",
              "      <td>8,4%</td>\n",
              "      <td>2.285.206</td>\n",
              "      <td>2.161.379</td>\n",
              "      <td>5,7%</td>\n",
              "    </tr>\n",
              "  </tbody>\n",
              "</table>\n",
              "</div>"
            ],
            "text/plain": [
              "         Μήνες Κίνηση Εσωτερικού 2019  ... Unnamed: 4 Unnamed: 5\n",
              "1   Ιανουάριος                449.834  ...  1.284.404       8,4%\n",
              "2  Φεβρουάριος                443.228  ...  1.192.905      11,3%\n",
              "3      Μάρτιος                516.796  ...  1.518.155       8,9%\n",
              "4     Απρίλιος                573.227  ...  1.863.047       6,6%\n",
              "5        Μάιος                700.752  ...  2.161.379       5,7%\n",
              "\n",
              "[5 rows x 10 columns]"
            ]
          },
          "metadata": {
            "tags": []
          },
          "execution_count": 16
        }
      ]
    },
    {
      "cell_type": "code",
      "metadata": {
        "id": "rmBUttI6KF22",
        "colab_type": "code",
        "outputId": "e71a4558-0696-49fb-db26-38db2b61a8e6",
        "colab": {
          "base_uri": "https://localhost:8080/",
          "height": 217
        }
      },
      "source": [
        "df.dtypes"
      ],
      "execution_count": 17,
      "outputs": [
        {
          "output_type": "execute_result",
          "data": {
            "text/plain": [
              "Μήνες                     object\n",
              "Κίνηση Εσωτερικού 2019    object\n",
              "Κίνηση Εσωτερικού 2018    object\n",
              "Συνολική Κίνηση           object\n",
              "Κίνηση Εξωτερικού 2019    object\n",
              "Κίνηση Εξωτερικού 2018    object\n",
              "Unnamed: 2                object\n",
              "Unnamed: 3                object\n",
              "Unnamed: 4                object\n",
              "Unnamed: 5                object\n",
              "dtype: object"
            ]
          },
          "metadata": {
            "tags": []
          },
          "execution_count": 17
        }
      ]
    },
    {
      "cell_type": "code",
      "metadata": {
        "id": "bdezydinKIUM",
        "colab_type": "code",
        "colab": {}
      },
      "source": [
        "df['Κίνηση Εσωτερικού 2019'] = df['Κίνηση Εσωτερικού 2019'].apply(pd.to_numeric, errors='coerce') #object to float64\n",
        "df['Κίνηση Εσωτερικού 2018'] = df['Κίνηση Εσωτερικού 2018'].apply(pd.to_numeric, errors='coerce') #object to float64"
      ],
      "execution_count": 0,
      "outputs": []
    },
    {
      "cell_type": "code",
      "metadata": {
        "id": "-onJQFMcKbNd",
        "colab_type": "code",
        "colab": {}
      },
      "source": [
        "df['Κίνηση Εσωτερικού 2019'] = df['Κίνηση Εσωτερικού 2019'].fillna(0)   #NaN to 0 \n",
        "df['Κίνηση Εσωτερικού 2018'] = df['Κίνηση Εσωτερικού 2018'].fillna(0) #NaN to 0 "
      ],
      "execution_count": 0,
      "outputs": []
    },
    {
      "cell_type": "code",
      "metadata": {
        "id": "Nol9NcpKKhqU",
        "colab_type": "code",
        "outputId": "fe04f2d7-00f2-41c4-8c4b-7796f034d988",
        "colab": {
          "base_uri": "https://localhost:8080/",
          "height": 217
        }
      },
      "source": [
        "df.dtypes"
      ],
      "execution_count": 20,
      "outputs": [
        {
          "output_type": "execute_result",
          "data": {
            "text/plain": [
              "Μήνες                      object\n",
              "Κίνηση Εσωτερικού 2019    float64\n",
              "Κίνηση Εσωτερικού 2018    float64\n",
              "Συνολική Κίνηση            object\n",
              "Κίνηση Εξωτερικού 2019     object\n",
              "Κίνηση Εξωτερικού 2018     object\n",
              "Unnamed: 2                 object\n",
              "Unnamed: 3                 object\n",
              "Unnamed: 4                 object\n",
              "Unnamed: 5                 object\n",
              "dtype: object"
            ]
          },
          "metadata": {
            "tags": []
          },
          "execution_count": 20
        }
      ]
    },
    {
      "cell_type": "code",
      "metadata": {
        "id": "DFpHiTOzI-z_",
        "colab_type": "code",
        "outputId": "8ae5f91c-2d96-4e4b-f021-ad74f455a37e",
        "colab": {
          "base_uri": "https://localhost:8080/",
          "height": 625
        }
      },
      "source": [
        "df.head(12)[['Μήνες', 'Κίνηση Εσωτερικού 2019', 'Κίνηση Εσωτερικού 2018']].plot(x='Μήνες', figsize=(10, 10))"
      ],
      "execution_count": 21,
      "outputs": [
        {
          "output_type": "execute_result",
          "data": {
            "text/plain": [
              "<matplotlib.axes._subplots.AxesSubplot at 0x7f0637471dd8>"
            ]
          },
          "metadata": {
            "tags": []
          },
          "execution_count": 21
        },
        {
          "output_type": "display_data",
          "data": {
            "image/png": "[encoded data removed]",
            "text/plain": [
              "<Figure size 720x720 with 1 Axes>"
            ]
          },
          "metadata": {
            "tags": [],
            "needs_background": "light"
          }
        }
      ]
    },
    {
      "cell_type": "code",
      "metadata": {
        "id": "6iL230Y8g8iz",
        "colab_type": "code",
        "outputId": "68ed0c9c-9f16-4c29-a61e-b697bf81d8ee",
        "colab": {
          "base_uri": "https://localhost:8080/",
          "height": 35
        }
      },
      "source": [
        "from google.colab import files\n",
        "plt.savefig('Κίνηση Εσωτερικού 2018-2019.png')\n",
        "files.download(\"Κίνηση Εσωτερικού 2018-2019.png\")"
      ],
      "execution_count": 22,
      "outputs": [
        {
          "output_type": "display_data",
          "data": {
            "text/plain": [
              "<Figure size 432x288 with 0 Axes>"
            ]
          },
          "metadata": {
            "tags": []
          }
        }
      ]
    },
    {
      "cell_type": "code",
      "metadata": {
        "id": "wuqfiiQAODSI",
        "colab_type": "code",
        "colab": {}
      },
      "source": [
        "data_1 = read_pdf(\"/gdrive/My Drive/passenger-traffic_may_2020_gr.pdf\", pages='all')"
      ],
      "execution_count": 0,
      "outputs": []
    },
    {
      "cell_type": "code",
      "metadata": {
        "id": "SPc41tozOLZl",
        "colab_type": "code",
        "outputId": "60077532-5f8a-4fcc-f6dd-c1fc7819b2f0",
        "colab": {
          "base_uri": "https://localhost:8080/",
          "height": 199
        }
      },
      "source": [
        "data_1"
      ],
      "execution_count": 24,
      "outputs": [
        {
          "output_type": "execute_result",
          "data": {
            "text/plain": [
              "[  ΕΠΙΒΑΤΙΚΗ\\rΚΙΝΗΣΗ Κίνηση Εσωτερικού  ... Unnamed: 4    Unnamed: 5\n",
              " 0               NaN              2020  ...       2019  %2020/\\r2019\n",
              " 1        Ιανουάριος           433.964  ...  1.392.885          5,7%\n",
              " 2       Φεβρουάριος           423.501  ...  1.327.788          2,8%\n",
              " 3           Μάρτιος           207.955  ...  1.652.594        -61,3%\n",
              " 4          Απρίλιος            11.932  ...  1.986.756        -98,9%\n",
              " 5             Μάιος            58.295  ...  2.285.206        -96,3%\n",
              " 6            Σύνολο         1.135.647  ...  8.645.229        -58,5%\n",
              " \n",
              " [7 rows x 10 columns]]"
            ]
          },
          "metadata": {
            "tags": []
          },
          "execution_count": 24
        }
      ]
    },
    {
      "cell_type": "code",
      "metadata": {
        "id": "pVXBjyOSOMnl",
        "colab_type": "code",
        "colab": {}
      },
      "source": [
        "#Ένωση διαφορετικών dataframes\n",
        "df1 = pd.concat(data_1)"
      ],
      "execution_count": 0,
      "outputs": []
    },
    {
      "cell_type": "code",
      "metadata": {
        "id": "TckmPNWbOOy8",
        "colab_type": "code",
        "outputId": "27a0ce52-876b-422d-87a9-78d25e248d8d",
        "colab": {
          "base_uri": "https://localhost:8080/",
          "height": 199
        }
      },
      "source": [
        "print(df1)"
      ],
      "execution_count": 26,
      "outputs": [
        {
          "output_type": "stream",
          "text": [
            "  ΕΠΙΒΑΤΙΚΗ\\rΚΙΝΗΣΗ Κίνηση Εσωτερικού  ... Unnamed: 4    Unnamed: 5\n",
            "0               NaN              2020  ...       2019  %2020/\\r2019\n",
            "1        Ιανουάριος           433.964  ...  1.392.885          5,7%\n",
            "2       Φεβρουάριος           423.501  ...  1.327.788          2,8%\n",
            "3           Μάρτιος           207.955  ...  1.652.594        -61,3%\n",
            "4          Απρίλιος            11.932  ...  1.986.756        -98,9%\n",
            "5             Μάιος            58.295  ...  2.285.206        -96,3%\n",
            "6            Σύνολο         1.135.647  ...  8.645.229        -58,5%\n",
            "\n",
            "[7 rows x 10 columns]\n"
          ],
          "name": "stdout"
        }
      ]
    },
    {
      "cell_type": "code",
      "metadata": {
        "id": "fPa47cw1OREk",
        "colab_type": "code",
        "outputId": "89adbd5a-8a4f-4732-b6c8-fad08fee91de",
        "colab": {
          "base_uri": "https://localhost:8080/",
          "height": 217
        }
      },
      "source": [
        "df1.isnull().sum()"
      ],
      "execution_count": 27,
      "outputs": [
        {
          "output_type": "execute_result",
          "data": {
            "text/plain": [
              "ΕΠΙΒΑΤΙΚΗ\\rΚΙΝΗΣΗ    1\n",
              "Κίνηση Εσωτερικού    0\n",
              "Κίνηση Εξωτερικού    0\n",
              "Συνολική Κίνηση      0\n",
              "Unnamed: 0           0\n",
              "Unnamed: 1           0\n",
              "Unnamed: 2           0\n",
              "Unnamed: 3           0\n",
              "Unnamed: 4           0\n",
              "Unnamed: 5           0\n",
              "dtype: int64"
            ]
          },
          "metadata": {
            "tags": []
          },
          "execution_count": 27
        }
      ]
    },
    {
      "cell_type": "code",
      "metadata": {
        "id": "SjeD_sN4OTMM",
        "colab_type": "code",
        "outputId": "e62bb24b-f340-4917-9618-800c3d1630d6",
        "colab": {
          "base_uri": "https://localhost:8080/",
          "height": 228
        }
      },
      "source": [
        "missing_values = [\"-\", 999, 9999, \"NA\"]\n",
        "\n",
        "df1.replace([\"-\", 999, 9999, \"NA\"], np.nan, inplace= True)\n",
        "\n",
        "df1.dropna()"
      ],
      "execution_count": 28,
      "outputs": [
        {
          "output_type": "execute_result",
          "data": {
            "text/html": [
              "<div>\n",
              "<style scoped>\n",
              "    .dataframe tbody tr th:only-of-type {\n",
              "        vertical-align: middle;\n",
              "    }\n",
              "\n",
              "    .dataframe tbody tr th {\n",
              "        vertical-align: top;\n",
              "    }\n",
              "\n",
              "    .dataframe thead th {\n",
              "        text-align: right;\n",
              "    }\n",
              "</style>\n",
              "<table border=\"1\" class=\"dataframe\">\n",
              "  <thead>\n",
              "    <tr style=\"text-align: right;\">\n",
              "      <th></th>\n",
              "      <th>ΕΠΙΒΑΤΙΚΗ\\rΚΙΝΗΣΗ</th>\n",
              "      <th>Κίνηση Εσωτερικού</th>\n",
              "      <th>Κίνηση Εξωτερικού</th>\n",
              "      <th>Συνολική Κίνηση</th>\n",
              "      <th>Unnamed: 0</th>\n",
              "      <th>Unnamed: 1</th>\n",
              "      <th>Unnamed: 2</th>\n",
              "      <th>Unnamed: 3</th>\n",
              "      <th>Unnamed: 4</th>\n",
              "      <th>Unnamed: 5</th>\n",
              "    </tr>\n",
              "  </thead>\n",
              "  <tbody>\n",
              "    <tr>\n",
              "      <th>1</th>\n",
              "      <td>Ιανουάριος</td>\n",
              "      <td>433.964</td>\n",
              "      <td>449.834</td>\n",
              "      <td>-3,5%</td>\n",
              "      <td>1.038.772</td>\n",
              "      <td>943.051</td>\n",
              "      <td>10,2%</td>\n",
              "      <td>1.472.736</td>\n",
              "      <td>1.392.885</td>\n",
              "      <td>5,7%</td>\n",
              "    </tr>\n",
              "    <tr>\n",
              "      <th>2</th>\n",
              "      <td>Φεβρουάριος</td>\n",
              "      <td>423.501</td>\n",
              "      <td>443.228</td>\n",
              "      <td>-4,5%</td>\n",
              "      <td>941.130</td>\n",
              "      <td>884.560</td>\n",
              "      <td>6,4%</td>\n",
              "      <td>1.364.631</td>\n",
              "      <td>1.327.788</td>\n",
              "      <td>2,8%</td>\n",
              "    </tr>\n",
              "    <tr>\n",
              "      <th>3</th>\n",
              "      <td>Μάρτιος</td>\n",
              "      <td>207.955</td>\n",
              "      <td>516.796</td>\n",
              "      <td>-59,8%</td>\n",
              "      <td>431.827</td>\n",
              "      <td>1.135.798</td>\n",
              "      <td>-62,0%</td>\n",
              "      <td>639.782</td>\n",
              "      <td>1.652.594</td>\n",
              "      <td>-61,3%</td>\n",
              "    </tr>\n",
              "    <tr>\n",
              "      <th>4</th>\n",
              "      <td>Απρίλιος</td>\n",
              "      <td>11.932</td>\n",
              "      <td>573.227</td>\n",
              "      <td>-97,9%</td>\n",
              "      <td>10.791</td>\n",
              "      <td>1.413.529</td>\n",
              "      <td>-99,2%</td>\n",
              "      <td>22.723</td>\n",
              "      <td>1.986.756</td>\n",
              "      <td>-98,9%</td>\n",
              "    </tr>\n",
              "    <tr>\n",
              "      <th>5</th>\n",
              "      <td>Μάιος</td>\n",
              "      <td>58.295</td>\n",
              "      <td>700.752</td>\n",
              "      <td>-91,7%</td>\n",
              "      <td>25.712</td>\n",
              "      <td>1.584.454</td>\n",
              "      <td>-98,4%</td>\n",
              "      <td>84.007</td>\n",
              "      <td>2.285.206</td>\n",
              "      <td>-96,3%</td>\n",
              "    </tr>\n",
              "    <tr>\n",
              "      <th>6</th>\n",
              "      <td>Σύνολο</td>\n",
              "      <td>1.135.647</td>\n",
              "      <td>2.683.837</td>\n",
              "      <td>-57,7%</td>\n",
              "      <td>2.448.232</td>\n",
              "      <td>5.961.392</td>\n",
              "      <td>-58,9%</td>\n",
              "      <td>3.583.879</td>\n",
              "      <td>8.645.229</td>\n",
              "      <td>-58,5%</td>\n",
              "    </tr>\n",
              "  </tbody>\n",
              "</table>\n",
              "</div>"
            ],
            "text/plain": [
              "  ΕΠΙΒΑΤΙΚΗ\\rΚΙΝΗΣΗ Κίνηση Εσωτερικού  ... Unnamed: 4 Unnamed: 5\n",
              "1        Ιανουάριος           433.964  ...  1.392.885       5,7%\n",
              "2       Φεβρουάριος           423.501  ...  1.327.788       2,8%\n",
              "3           Μάρτιος           207.955  ...  1.652.594     -61,3%\n",
              "4          Απρίλιος            11.932  ...  1.986.756     -98,9%\n",
              "5             Μάιος            58.295  ...  2.285.206     -96,3%\n",
              "6            Σύνολο         1.135.647  ...  8.645.229     -58,5%\n",
              "\n",
              "[6 rows x 10 columns]"
            ]
          },
          "metadata": {
            "tags": []
          },
          "execution_count": 28
        }
      ]
    },
    {
      "cell_type": "code",
      "metadata": {
        "id": "qBrPx97pObd8",
        "colab_type": "code",
        "colab": {}
      },
      "source": [
        "df1.rename(columns={'ΕΠΙΒΑΤΙΚΗ\\rΚΙΝΗΣΗ': 'Μήνες', 'Κίνηση Εσωτερικού': 'Κίνηση Εσωτερικού 2020', 'Κίνηση Εξωτερικού' : 'Κίνηση Εσωτερικού 2019', 'Unnamed: 0': 'Κίνηση Εξωτερικού 2020', 'Unnamed: 1' : 'Κίνηση Εξωτερικού 2019'}, inplace=True)"
      ],
      "execution_count": 0,
      "outputs": []
    },
    {
      "cell_type": "code",
      "metadata": {
        "id": "lcWB5XDSYHV1",
        "colab_type": "code",
        "colab": {}
      },
      "source": [
        "df1 = df1.drop(df1.index[0])"
      ],
      "execution_count": 0,
      "outputs": []
    },
    {
      "cell_type": "code",
      "metadata": {
        "id": "IhxxqoOnPIOU",
        "colab_type": "code",
        "outputId": "7c7f7184-f976-4dd3-f8e8-6e621c74e481",
        "colab": {
          "base_uri": "https://localhost:8080/",
          "height": 198
        }
      },
      "source": [
        "df1.head()"
      ],
      "execution_count": 31,
      "outputs": [
        {
          "output_type": "execute_result",
          "data": {
            "text/html": [
              "<div>\n",
              "<style scoped>\n",
              "    .dataframe tbody tr th:only-of-type {\n",
              "        vertical-align: middle;\n",
              "    }\n",
              "\n",
              "    .dataframe tbody tr th {\n",
              "        vertical-align: top;\n",
              "    }\n",
              "\n",
              "    .dataframe thead th {\n",
              "        text-align: right;\n",
              "    }\n",
              "</style>\n",
              "<table border=\"1\" class=\"dataframe\">\n",
              "  <thead>\n",
              "    <tr style=\"text-align: right;\">\n",
              "      <th></th>\n",
              "      <th>Μήνες</th>\n",
              "      <th>Κίνηση Εσωτερικού 2020</th>\n",
              "      <th>Κίνηση Εσωτερικού 2019</th>\n",
              "      <th>Συνολική Κίνηση</th>\n",
              "      <th>Κίνηση Εξωτερικού 2020</th>\n",
              "      <th>Κίνηση Εξωτερικού 2019</th>\n",
              "      <th>Unnamed: 2</th>\n",
              "      <th>Unnamed: 3</th>\n",
              "      <th>Unnamed: 4</th>\n",
              "      <th>Unnamed: 5</th>\n",
              "    </tr>\n",
              "  </thead>\n",
              "  <tbody>\n",
              "    <tr>\n",
              "      <th>1</th>\n",
              "      <td>Ιανουάριος</td>\n",
              "      <td>433.964</td>\n",
              "      <td>449.834</td>\n",
              "      <td>-3,5%</td>\n",
              "      <td>1.038.772</td>\n",
              "      <td>943.051</td>\n",
              "      <td>10,2%</td>\n",
              "      <td>1.472.736</td>\n",
              "      <td>1.392.885</td>\n",
              "      <td>5,7%</td>\n",
              "    </tr>\n",
              "    <tr>\n",
              "      <th>2</th>\n",
              "      <td>Φεβρουάριος</td>\n",
              "      <td>423.501</td>\n",
              "      <td>443.228</td>\n",
              "      <td>-4,5%</td>\n",
              "      <td>941.130</td>\n",
              "      <td>884.560</td>\n",
              "      <td>6,4%</td>\n",
              "      <td>1.364.631</td>\n",
              "      <td>1.327.788</td>\n",
              "      <td>2,8%</td>\n",
              "    </tr>\n",
              "    <tr>\n",
              "      <th>3</th>\n",
              "      <td>Μάρτιος</td>\n",
              "      <td>207.955</td>\n",
              "      <td>516.796</td>\n",
              "      <td>-59,8%</td>\n",
              "      <td>431.827</td>\n",
              "      <td>1.135.798</td>\n",
              "      <td>-62,0%</td>\n",
              "      <td>639.782</td>\n",
              "      <td>1.652.594</td>\n",
              "      <td>-61,3%</td>\n",
              "    </tr>\n",
              "    <tr>\n",
              "      <th>4</th>\n",
              "      <td>Απρίλιος</td>\n",
              "      <td>11.932</td>\n",
              "      <td>573.227</td>\n",
              "      <td>-97,9%</td>\n",
              "      <td>10.791</td>\n",
              "      <td>1.413.529</td>\n",
              "      <td>-99,2%</td>\n",
              "      <td>22.723</td>\n",
              "      <td>1.986.756</td>\n",
              "      <td>-98,9%</td>\n",
              "    </tr>\n",
              "    <tr>\n",
              "      <th>5</th>\n",
              "      <td>Μάιος</td>\n",
              "      <td>58.295</td>\n",
              "      <td>700.752</td>\n",
              "      <td>-91,7%</td>\n",
              "      <td>25.712</td>\n",
              "      <td>1.584.454</td>\n",
              "      <td>-98,4%</td>\n",
              "      <td>84.007</td>\n",
              "      <td>2.285.206</td>\n",
              "      <td>-96,3%</td>\n",
              "    </tr>\n",
              "  </tbody>\n",
              "</table>\n",
              "</div>"
            ],
            "text/plain": [
              "         Μήνες Κίνηση Εσωτερικού 2020  ... Unnamed: 4 Unnamed: 5\n",
              "1   Ιανουάριος                433.964  ...  1.392.885       5,7%\n",
              "2  Φεβρουάριος                423.501  ...  1.327.788       2,8%\n",
              "3      Μάρτιος                207.955  ...  1.652.594     -61,3%\n",
              "4     Απρίλιος                 11.932  ...  1.986.756     -98,9%\n",
              "5        Μάιος                 58.295  ...  2.285.206     -96,3%\n",
              "\n",
              "[5 rows x 10 columns]"
            ]
          },
          "metadata": {
            "tags": []
          },
          "execution_count": 31
        }
      ]
    },
    {
      "cell_type": "code",
      "metadata": {
        "id": "i1MEzwQmPQZE",
        "colab_type": "code",
        "outputId": "d9c4492c-974e-4245-d881-133c084f70e7",
        "colab": {
          "base_uri": "https://localhost:8080/",
          "height": 217
        }
      },
      "source": [
        "df1.dtypes"
      ],
      "execution_count": 32,
      "outputs": [
        {
          "output_type": "execute_result",
          "data": {
            "text/plain": [
              "Μήνες                     object\n",
              "Κίνηση Εσωτερικού 2020    object\n",
              "Κίνηση Εσωτερικού 2019    object\n",
              "Συνολική Κίνηση           object\n",
              "Κίνηση Εξωτερικού 2020    object\n",
              "Κίνηση Εξωτερικού 2019    object\n",
              "Unnamed: 2                object\n",
              "Unnamed: 3                object\n",
              "Unnamed: 4                object\n",
              "Unnamed: 5                object\n",
              "dtype: object"
            ]
          },
          "metadata": {
            "tags": []
          },
          "execution_count": 32
        }
      ]
    },
    {
      "cell_type": "code",
      "metadata": {
        "id": "vBcu5FUhPT_E",
        "colab_type": "code",
        "colab": {}
      },
      "source": [
        "df1['Κίνηση Εσωτερικού 2020'] = df1['Κίνηση Εσωτερικού 2020'].apply(pd.to_numeric, errors='coerce') #object to float64\n",
        "df1['Κίνηση Εσωτερικού 2019'] = df1['Κίνηση Εσωτερικού 2019'].apply(pd.to_numeric, errors='coerce') #object to float64"
      ],
      "execution_count": 0,
      "outputs": []
    },
    {
      "cell_type": "code",
      "metadata": {
        "id": "IGmEo6mFPcLD",
        "colab_type": "code",
        "colab": {}
      },
      "source": [
        "df1['Κίνηση Εσωτερικού 2020'] = df1['Κίνηση Εσωτερικού 2020'].fillna(0)   #NaN to 0 \n",
        "df1['Κίνηση Εσωτερικού 2019'] = df1['Κίνηση Εσωτερικού 2019'].fillna(0)  #NaN to 0 "
      ],
      "execution_count": 0,
      "outputs": []
    },
    {
      "cell_type": "code",
      "metadata": {
        "id": "kSRgf8k-Xjwv",
        "colab_type": "code",
        "colab": {}
      },
      "source": [
        "df1['Κίνηση Εξωτερικού 2020'] = df1['Κίνηση Εξωτερικού 2020'].apply(pd.to_numeric, errors='coerce') #object to float64\n",
        "df1['Κίνηση Εξωτερικού 2019'] = df1['Κίνηση Εξωτερικού 2019'].apply(pd.to_numeric, errors='coerce') #object to float64"
      ],
      "execution_count": 0,
      "outputs": []
    },
    {
      "cell_type": "code",
      "metadata": {
        "id": "_i6o59F5Xowd",
        "colab_type": "code",
        "colab": {}
      },
      "source": [
        "df1['Κίνηση Εξωτερικού 2020'] = df1['Κίνηση Εξωτερικού 2020'].fillna(0)   #NaN to 0 \n",
        "df1['Κίνηση Εξωτερικού 2019'] = df1['Κίνηση Εξωτερικού 2019'].fillna(0)  #NaN to 0 "
      ],
      "execution_count": 0,
      "outputs": []
    },
    {
      "cell_type": "code",
      "metadata": {
        "id": "llDtwh1-Pk8E",
        "colab_type": "code",
        "outputId": "ce70e5b4-2284-4fcf-9cb6-f1069104e429",
        "colab": {
          "base_uri": "https://localhost:8080/",
          "height": 217
        }
      },
      "source": [
        "df1.dtypes"
      ],
      "execution_count": 37,
      "outputs": [
        {
          "output_type": "execute_result",
          "data": {
            "text/plain": [
              "Μήνες                      object\n",
              "Κίνηση Εσωτερικού 2020    float64\n",
              "Κίνηση Εσωτερικού 2019    float64\n",
              "Συνολική Κίνηση            object\n",
              "Κίνηση Εξωτερικού 2020    float64\n",
              "Κίνηση Εξωτερικού 2019    float64\n",
              "Unnamed: 2                 object\n",
              "Unnamed: 3                 object\n",
              "Unnamed: 4                 object\n",
              "Unnamed: 5                 object\n",
              "dtype: object"
            ]
          },
          "metadata": {
            "tags": []
          },
          "execution_count": 37
        }
      ]
    },
    {
      "cell_type": "code",
      "metadata": {
        "id": "VRrhX8sZPm0s",
        "colab_type": "code",
        "outputId": "a2cd3c29-7a28-4be4-df49-cb7c195eb3ec",
        "colab": {
          "base_uri": "https://localhost:8080/",
          "height": 625
        }
      },
      "source": [
        "df1.head(5)[['Μήνες', 'Κίνηση Εσωτερικού 2020', 'Κίνηση Εσωτερικού 2019']].plot(x='Μήνες', figsize=(10, 10))"
      ],
      "execution_count": 38,
      "outputs": [
        {
          "output_type": "execute_result",
          "data": {
            "text/plain": [
              "<matplotlib.axes._subplots.AxesSubplot at 0x7f06367476a0>"
            ]
          },
          "metadata": {
            "tags": []
          },
          "execution_count": 38
        },
        {
          "output_type": "display_data",
          "data": {
            "image/png": "[encoded data removed]",
            "text/plain": [
              "<Figure size 720x720 with 1 Axes>"
            ]
          },
          "metadata": {
            "tags": [],
            "needs_background": "light"
          }
        }
      ]
    },
    {
      "cell_type": "code",
      "metadata": {
        "id": "CGMtQMJSiVms",
        "colab_type": "code",
        "outputId": "5a1dce5b-a923-43c5-f328-b9e83d1fbb48",
        "colab": {
          "base_uri": "https://localhost:8080/",
          "height": 35
        }
      },
      "source": [
        "from google.colab import files\n",
        "plt.savefig('Κίνηση Εσωτερικού 2019-2020.png')\n",
        "files.download(\"Κίνηση Εσωτερικού 2019-2020.png\")"
      ],
      "execution_count": 39,
      "outputs": [
        {
          "output_type": "display_data",
          "data": {
            "text/plain": [
              "<Figure size 432x288 with 0 Axes>"
            ]
          },
          "metadata": {
            "tags": []
          }
        }
      ]
    },
    {
      "cell_type": "code",
      "metadata": {
        "id": "CI9t6UYRX4GN",
        "colab_type": "code",
        "colab": {
          "base_uri": "https://localhost:8080/",
          "height": 625
        },
        "outputId": "29dc0726-1d80-4518-da9a-09ffdbc23a64"
      },
      "source": [
        "df1.head(5)[['Μήνες', 'Κίνηση Εξωτερικού 2020', 'Κίνηση Εξωτερικού 2019']].plot(x='Μήνες', figsize=(10, 10))"
      ],
      "execution_count": 40,
      "outputs": [
        {
          "output_type": "execute_result",
          "data": {
            "text/plain": [
              "<matplotlib.axes._subplots.AxesSubplot at 0x7f0635ec16a0>"
            ]
          },
          "metadata": {
            "tags": []
          },
          "execution_count": 40
        },
        {
          "output_type": "display_data",
          "data": {
            "image/png": "[encoded data removed]",
            "text/plain": [
              "<Figure size 720x720 with 1 Axes>"
            ]
          },
          "metadata": {
            "tags": [],
            "needs_background": "light"
          }
        }
      ]
    },
    {
      "cell_type": "code",
      "metadata": {
        "id": "G23XvDd1YF41",
        "colab_type": "code",
        "colab": {
          "base_uri": "https://localhost:8080/",
          "height": 35
        },
        "outputId": "df081503-6e18-493e-995a-71452f0bfd7b"
      },
      "source": [
        "from google.colab import files\n",
        "plt.savefig('Κίνηση Εξωτερικού 2019 - 2020.png')\n",
        "files.download(\"Κίνηση Εξωτερικού 2019 - 2020.png\")"
      ],
      "execution_count": 41,
      "outputs": [
        {
          "output_type": "display_data",
          "data": {
            "text/plain": [
              "<Figure size 432x288 with 0 Axes>"
            ]
          },
          "metadata": {
            "tags": []
          }
        }
      ]
    }
  ]
}